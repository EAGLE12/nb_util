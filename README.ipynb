{
 "cells": [
  {
   "cell_type": "markdown",
   "metadata": {
    "toc": true
   },
   "source": [
    "<h1>Table of Contents<span class=\"tocSkip\"></span></h1>\n",
    "<div class=\"toc\" style=\"margin-top: 1em;\"><ul class=\"toc-item\"><li><span><a href=\"#Name\" data-toc-modified-id=\"Name-1\"><span class=\"toc-item-num\">1&nbsp;&nbsp;</span>Name</a></span></li><li><span><a href=\"#Summary\" data-toc-modified-id=\"Summary-2\"><span class=\"toc-item-num\">2&nbsp;&nbsp;</span>Summary</a></span></li><li><span><a href=\"#Installation\" data-toc-modified-id=\"Installation-3\"><span class=\"toc-item-num\">3&nbsp;&nbsp;</span>Installation</a></span></li><li><span><a href=\"#Usage\" data-toc-modified-id=\"Usage-4\"><span class=\"toc-item-num\">4&nbsp;&nbsp;</span>Usage</a></span></li><li><span><a href=\"#Uninstall\" data-toc-modified-id=\"Uninstall-5\"><span class=\"toc-item-num\">5&nbsp;&nbsp;</span>Uninstall</a></span></li><li><span><a href=\"#Development\" data-toc-modified-id=\"Development-6\"><span class=\"toc-item-num\">6&nbsp;&nbsp;</span>Development</a></span></li><li><span><a href=\"#Contributing\" data-toc-modified-id=\"Contributing-7\"><span class=\"toc-item-num\">7&nbsp;&nbsp;</span>Contributing</a></span></li><li><span><a href=\"#License\" data-toc-modified-id=\"License-8\"><span class=\"toc-item-num\">8&nbsp;&nbsp;</span>License</a></span></li><li><span><a href=\"#Code-of-Conduct\" data-toc-modified-id=\"Code-of-Conduct-9\"><span class=\"toc-item-num\">9&nbsp;&nbsp;</span>Code of Conduct</a></span></li></ul></div>"
   ]
  },
  {
   "cell_type": "markdown",
   "metadata": {},
   "source": [
    "# Name"
   ]
  },
  {
   "cell_type": "markdown",
   "metadata": {},
   "source": [
    "nb_util"
   ]
  },
  {
   "cell_type": "markdown",
   "metadata": {},
   "source": [
    "# Summary"
   ]
  },
  {
   "cell_type": "markdown",
   "metadata": {},
   "source": [
    "nb_util allows you to generate latex(tex) format from your jupyter notebook(ipynb) format."
   ]
  },
  {
   "cell_type": "markdown",
   "metadata": {},
   "source": [
    "This gem supplies to help when you use jupyter notebook. \n",
    "\n",
    "what can it help me?\n",
    "\n",
    "1. Convert [my_help](https://github.com/daddygongon/my_help) to jupyter notebook(ipynb)\n",
    "1. Combine multiple jupyter notebook into one jupyter note book\n",
    "1. Extract data from jupyter notebook, then convert to the file format you extracted data.\n",
    "1. To see jupyter notbook's contents\n",
    "1. Convert jupyter notebook(ipynb) to latex(tex) format(thesis and handout(A4))\n"
   ]
  },
  {
   "cell_type": "markdown",
   "metadata": {},
   "source": [
    "# Installation"
   ]
  },
  {
   "cell_type": "markdown",
   "metadata": {},
   "source": [
    "Add this line to your application's Gemfile:\n",
    "\n",
    "```ruby\n",
    "gem 'nb_util'\n",
    "```\n",
    "\n",
    "And then execute:\n",
    "\n",
    "    $ bundle\n",
    "\n",
    "Or install it yourself as:\n",
    "\n",
    "    $ gem install nb_util\n",
    "    \n",
    "To use this library:\n",
    "\n",
    "```ruby\n",
    "require 'nb_util'\n",
    "```\n",
    "\n",
    "On your local system, run the following in your command line: \n",
    "\n",
    "    $ git clone git@github.com:EAGLE12/nb_util.git\n",
    "    $ cd nb_util\n",
    "    $ bundle update\n",
    "    \n",
    "Run the following in your command line:\n",
    "\n",
    "    $ bundle exec exe/nb_util\n",
    "\n",
    "```ruby\n",
    "nb_util says hello, EAGLE !!\n",
    "Commands:\n",
    "  nb_util combine [input file1] [input file2] [output filename]  # combine file1 and file2\n",
    "  nb_util getcode [filename]                                     # save in ruby format\n",
    "  nb_util help [COMMAND]                                         # Describe available commands or one specific command\n",
    "  nb_util iputs [filename]                                       # display ipynb file contents\n",
    "  nb_util ipynb2tex [filename] [option]                          # convert ipynb to tex's thiesis format\n",
    "  nb_util red WORD [OPTION]                                      # red words print.\n",
    "  nb_util yaml2ipynb [input filename]                            # convert yaml to ipynb\n",
    "```\n",
    "\n",
    "Have a good life with nb_util!"
   ]
  },
  {
   "cell_type": "markdown",
   "metadata": {},
   "source": [
    "# Usage"
   ]
  },
  {
   "cell_type": "markdown",
   "metadata": {},
   "source": [
    "```\n",
    "$ nb_util\n",
    "```\n",
    "\n",
    "```ruby\n",
    "nb_util says hello, EAGLE !!\n",
    "Commands:\n",
    "  nb_util combine [input file1] [input file2] [output filename]  # combine file1 and file2\n",
    "  nb_util getcode [filename]                                     # save in ruby format\n",
    "  nb_util help [COMMAND]                                         # Describe available commands or one specific command\n",
    "  nb_util iputs [filename]                                       # display ipynb file contents\n",
    "  nb_util ipynb2tex [filename] [option]                          # convert ipynb to tex's thiesis format\n",
    "  nb_util red WORD [OPTION]                                      # red words print.\n",
    "  nb_util yaml2ipynb [input filename]                            # convert yaml to ipynb\n",
    "```"
   ]
  },
  {
   "cell_type": "markdown",
   "metadata": {},
   "source": [
    "# Uninstall"
   ]
  },
  {
   "cell_type": "markdown",
   "metadata": {
    "cell_style": "center"
   },
   "source": [
    "```\n",
    "$ gem uninstall nb_util\n",
    "```\n",
    "And then\n",
    "\n",
    "You want to uninstall by filling number on it\n",
    "\n",
    "```ruby\n",
    "Select gem to uninstall:\n",
    " 1. nb_util-0.3.4\n",
    " 2. nb_util-0.3.5\n",
    " 3. nb_util-0.3.6\n",
    " 4. nb_util-0.3.7\n",
    " 5. nb_util-0.3.8\n",
    " 6. nb_util-0.4.0\n",
    " 7. All versions\n",
    "> 7\n",
    "Successfully uninstalled nb_util-0.3.4\n",
    "Successfully uninstalled nb_util-0.3.5\n",
    "Successfully uninstalled nb_util-0.3.6\n",
    "Successfully uninstalled nb_util-0.3.7\n",
    "Successfully uninstalled nb_util-0.3.8\n",
    "Remove executables:\n",
    "\tnb_util\n",
    "\n",
    "in addition to the gem? [Yn]  y\n",
    "Removing nb_util\n",
    "Successfully uninstalled nb_util-0.4.0\n",
    "```\n",
    " "
   ]
  },
  {
   "cell_type": "markdown",
   "metadata": {},
   "source": [
    "# Development"
   ]
  },
  {
   "cell_type": "markdown",
   "metadata": {},
   "source": [
    "After checking out the repo, run `bin/setup` to install dependencies. Then, run `rake spec` to run the tests. You can also run `bin/console` for an interactive prompt that will allow you to experiment.\n",
    "\n",
    "To install this gem onto your local machine, run `bundle exec rake install`. \n",
    "To release a new version, update the version number in `version.rb`, and then run `bundle exec rake release`, which will create a git tag for the version, push git commits and tags, and push the `.gem` file to [rubygems.org](https://rubygems.org/gems/nb_util)."
   ]
  },
  {
   "cell_type": "markdown",
   "metadata": {},
   "source": [
    "# Contributing"
   ]
  },
  {
   "cell_type": "markdown",
   "metadata": {},
   "source": [
    "Bug reports and pull requests are welcome on GitHub at https://github.com/EAGLE12/nb_util. This project is intended to be a safe, welcoming space for collaboration, and contributors are expected to adhere to the [Contributor Covenant](http://contributor-covenant.org) code of conduct.\n",
    "\n",
    "1. Fork it (https://github.com/EAGLE12/nb_util/fork)\n",
    "1. Create your feature branch (git checkout -b my-new-feature)\n",
    "1. Commit your changes (git commit -am 'Added some feature')\n",
    "1. Push to the branch (git push origin my-new-feature)\n",
    "1. Create new Pull Request"
   ]
  },
  {
   "cell_type": "markdown",
   "metadata": {},
   "source": [
    "# License"
   ]
  },
  {
   "cell_type": "markdown",
   "metadata": {},
   "source": [
    "The gem is available as open source under the terms of the [MIT License](https://opensource.org/licenses/MIT)."
   ]
  },
  {
   "cell_type": "markdown",
   "metadata": {},
   "source": [
    "# Code of Conduct"
   ]
  },
  {
   "cell_type": "markdown",
   "metadata": {},
   "source": [
    "Everyone interacting in the NbUtil project’s codebases, issue trackers, chat rooms and mailing lists is expected to follow the [code of conduct](https://github.com/EAGLE12/nb_util/blob/master/CODE_OF_CONDUCT.md)."
   ]
  },
  {
   "cell_type": "code",
   "execution_count": null,
   "metadata": {},
   "outputs": [],
   "source": []
  }
 ],
 "metadata": {
  "kernelspec": {
   "display_name": "Ruby 2.4.1",
   "language": "ruby",
   "name": "ruby"
  },
  "language_info": {
   "file_extension": ".rb",
   "mimetype": "application/x-ruby",
   "name": "ruby",
   "version": "2.4.2"
  },
  "toc": {
   "nav_menu": {},
   "number_sections": true,
   "sideBar": true,
   "skip_h1_title": false,
   "toc_cell": true,
   "toc_position": {},
   "toc_section_display": "block",
   "toc_window_display": true
  }
 },
 "nbformat": 4,
 "nbformat_minor": 2
}
