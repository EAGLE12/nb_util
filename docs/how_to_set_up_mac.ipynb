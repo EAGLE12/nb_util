{
 "cells": [
  {
   "cell_type": "markdown",
   "metadata": {
    "toc": true
   },
   "source": [
    "<h1>Table of Contents<span class=\"tocSkip\"></span></h1>\n",
    "<div class=\"toc\" style=\"margin-top: 1em;\"><ul class=\"toc-item\"><li><span><a href=\"#How-to-set-up-mac\" data-toc-modified-id=\"How-to-set-up-mac-1\"><span class=\"toc-item-num\">1&nbsp;&nbsp;</span>How to set-up mac</a></span><ul class=\"toc-item\"><li><span><a href=\"#auther-小脇-雅健\" data-toc-modified-id=\"auther-小脇-雅健-1.1\"><span class=\"toc-item-num\">1.1&nbsp;&nbsp;</span>auther 小脇 雅健</a></span></li></ul></li><li><span><a href=\"#動作環境又は，前提の情報\" data-toc-modified-id=\"動作環境又は，前提の情報-2\"><span class=\"toc-item-num\">2&nbsp;&nbsp;</span>動作環境又は，前提の情報</a></span><ul class=\"toc-item\"><li><span><a href=\"#OS\" data-toc-modified-id=\"OS-2.1\"><span class=\"toc-item-num\">2.1&nbsp;&nbsp;</span>OS</a></span></li><li><span><a href=\"#Apple-ID-/-Google-ID\" data-toc-modified-id=\"Apple-ID-/-Google-ID-2.2\"><span class=\"toc-item-num\">2.2&nbsp;&nbsp;</span>Apple ID / Google ID</a></span></li><li><span><a href=\"#Github\" data-toc-modified-id=\"Github-2.3\"><span class=\"toc-item-num\">2.3&nbsp;&nbsp;</span>Github</a></span><ul class=\"toc-item\"><li><span><a href=\"#ssh-keyの登録をし直す場合\" data-toc-modified-id=\"ssh-keyの登録をし直す場合-2.3.1\"><span class=\"toc-item-num\">2.3.1&nbsp;&nbsp;</span>ssh keyの登録をし直す場合</a></span></li></ul></li></ul></li><li><span><a href=\"#インストールした内容\" data-toc-modified-id=\"インストールした内容-3\"><span class=\"toc-item-num\">3&nbsp;&nbsp;</span>インストールした内容</a></span><ul class=\"toc-item\"><li><span><a href=\"#Xcode\" data-toc-modified-id=\"Xcode-3.1\"><span class=\"toc-item-num\">3.1&nbsp;&nbsp;</span>Xcode</a></span><ul class=\"toc-item\"><li><span><a href=\"#Xcode\" data-toc-modified-id=\"Xcode-3.1.1\"><span class=\"toc-item-num\">3.1.1&nbsp;&nbsp;</span>Xcode</a></span></li><li><span><a href=\"#Command-Line-Tools\" data-toc-modified-id=\"Command-Line-Tools-3.1.2\"><span class=\"toc-item-num\">3.1.2&nbsp;&nbsp;</span>Command Line Tools</a></span></li></ul></li><li><span><a href=\"#Homebrew\" data-toc-modified-id=\"Homebrew-3.2\"><span class=\"toc-item-num\">3.2&nbsp;&nbsp;</span>Homebrew</a></span></li><li><span><a href=\"#fish\" data-toc-modified-id=\"fish-3.3\"><span class=\"toc-item-num\">3.3&nbsp;&nbsp;</span>fish</a></span><ul class=\"toc-item\"><li><span><a href=\"#fish\" data-toc-modified-id=\"fish-3.3.1\"><span class=\"toc-item-num\">3.3.1&nbsp;&nbsp;</span>fish</a></span></li><li><span><a href=\"#fisherman\" data-toc-modified-id=\"fisherman-3.3.2\"><span class=\"toc-item-num\">3.3.2&nbsp;&nbsp;</span>fisherman</a></span></li></ul></li><li><span><a href=\"#emacs\" data-toc-modified-id=\"emacs-3.4\"><span class=\"toc-item-num\">3.4&nbsp;&nbsp;</span>emacs</a></span><ul class=\"toc-item\"><li><span><a href=\"#emacs\" data-toc-modified-id=\"emacs-3.4.1\"><span class=\"toc-item-num\">3.4.1&nbsp;&nbsp;</span>emacs</a></span></li><li><span><a href=\"#init.el\" data-toc-modified-id=\"init.el-3.4.2\"><span class=\"toc-item-num\">3.4.2&nbsp;&nbsp;</span>init.el</a></span></li></ul></li><li><span><a href=\"#rbenv\" data-toc-modified-id=\"rbenv-3.5\"><span class=\"toc-item-num\">3.5&nbsp;&nbsp;</span>rbenv</a></span></li><li><span><a href=\"#pyenv\" data-toc-modified-id=\"pyenv-3.6\"><span class=\"toc-item-num\">3.6&nbsp;&nbsp;</span>pyenv</a></span></li><li><span><a href=\"#jupyter-notebook\" data-toc-modified-id=\"jupyter-notebook-3.7\"><span class=\"toc-item-num\">3.7&nbsp;&nbsp;</span>jupyter notebook</a></span><ul class=\"toc-item\"><li><span><a href=\"#anaconda-and-jupyter-notebook\" data-toc-modified-id=\"anaconda-and-jupyter-notebook-3.7.1\"><span class=\"toc-item-num\">3.7.1&nbsp;&nbsp;</span>anaconda and jupyter notebook</a></span></li><li><span><a href=\"#ruby-kernel\" data-toc-modified-id=\"ruby-kernel-3.7.2\"><span class=\"toc-item-num\">3.7.2&nbsp;&nbsp;</span>ruby kernel</a></span><ul class=\"toc-item\"><li><span><a href=\"#conda\" data-toc-modified-id=\"conda-3.7.2.1\"><span class=\"toc-item-num\">3.7.2.1&nbsp;&nbsp;</span>conda</a></span></li><li><span><a href=\"#pip\" data-toc-modified-id=\"pip-3.7.2.2\"><span class=\"toc-item-num\">3.7.2.2&nbsp;&nbsp;</span>pip</a></span></li></ul></li></ul></li><li><span><a href=\"#tex\" data-toc-modified-id=\"tex-3.8\"><span class=\"toc-item-num\">3.8&nbsp;&nbsp;</span>tex</a></span><ul class=\"toc-item\"><li><span><a href=\"#MacTeX\" data-toc-modified-id=\"MacTeX-3.8.1\"><span class=\"toc-item-num\">3.8.1&nbsp;&nbsp;</span>MacTeX</a></span></li></ul></li></ul></li></ul></div>"
   ]
  },
  {
   "cell_type": "markdown",
   "metadata": {},
   "source": [
    "# How to set-up mac "
   ]
  },
  {
   "cell_type": "markdown",
   "metadata": {},
   "source": [
    "## auther 小脇 雅健"
   ]
  },
  {
   "cell_type": "markdown",
   "metadata": {},
   "source": [
    "# 動作環境又は，前提の情報"
   ]
  },
  {
   "cell_type": "markdown",
   "metadata": {},
   "source": [
    "## OS\n",
    "- macOS High Sierra 10.13.1で試している．"
   ]
  },
  {
   "cell_type": "markdown",
   "metadata": {},
   "source": [
    "## Apple ID / Google ID\n",
    "- ID: d.konglaw@gmail.com\n",
    "- Pass: Cslhome1"
   ]
  },
  {
   "cell_type": "markdown",
   "metadata": {},
   "source": [
    "## Github"
   ]
  },
  {
   "cell_type": "markdown",
   "metadata": {},
   "source": [
    "### ssh keyの登録をし直す場合\n",
    "1. sshを登録する，sshが存在するかまずは確認\n",
    "```ruby \n",
    "ls .ssh\n",
    "```\n",
    "1. これで，id_rsa  id_rsa.pubがあれば消去して作り直す\n",
    "```ruby\n",
    "ssh-keygen\n",
    "```\n",
    "1. これで，id_rsa  id_rsa.pubが作成されるので，その中のid_rsa.pubをGithubに登録"
   ]
  },
  {
   "cell_type": "markdown",
   "metadata": {},
   "source": [
    "# インストールした内容"
   ]
  },
  {
   "cell_type": "markdown",
   "metadata": {},
   "source": [
    "## Xcode"
   ]
  },
  {
   "cell_type": "markdown",
   "metadata": {},
   "source": [
    "### Xcode\n",
    "1. Version 9.1\n",
    " 1. 特にbrewなどは，Xcodeの**[Command Line Tools](http://osxdaily.com/2014/02/12/install-command-line-tools-mac-os-x/)**をインストールするために，macOSに対しての最新のバージョンがおそらく必要である．\n",
    "1. Xcodeのインストールは，Apple Storeから，インストールできるのでインストールしてください．\n",
    "1. インストール後に，ライセンスの同意が求められるので，同意してください．"
   ]
  },
  {
   "cell_type": "markdown",
   "metadata": {},
   "source": [
    "### Command Line Tools\n",
    "1. **xcode-select --install**がインストールされているか，下記コマンドで確認できる．\n",
    "```ruby\n",
    "ls /Library/Developer/CommandLineTools/\n",
    "```\n",
    "1. 1.Aで紹介した，**Command Line Tools**がなければ下記コマンドで入手する\n",
    "```ruby\n",
    "xcode-select --install\n",
    "```"
   ]
  },
  {
   "cell_type": "markdown",
   "metadata": {},
   "source": [
    "## Homebrew\n",
    "1. 下記情報は，[Homwbrew](http://brew.sh)を参考に\n",
    "```ruby\n",
    "ruby -e \"$(curl -fsSL https://raw.githubusercontent.com/Homebrew/install/master/install)\"\n",
    "=> 途中パスワードを入力必要があればログイン時パスワードを入力してください。\n",
    "```"
   ]
  },
  {
   "cell_type": "markdown",
   "metadata": {},
   "source": [
    "1. `brew doctor` をして下記のerrorが出たら，\n",
    "\n",
    "```ruby\n",
    "Please note that these warnings are just used to help the Homebrew maintainers\n",
    "with debugging if you file an issue. If everything you use Homebrew for is\n",
    "working fine: please don't worry and just ignore them. Thanks!\n",
    "\n",
    "Warning: python is symlinked to python3\n",
    "This will confuse build scripts and in general lead to subtle breakage.\n",
    "\n",
    "Warning: \"config\" scripts exist outside your system or Homebrew directories.\n",
    "`./configure` scripts often look for *-config scripts to determine if\n",
    "software packages are installed, and what additional flags to use when\n",
    "compiling and linking.\n",
    "\n",
    "Having additional scripts in your path can confuse software installed via\n",
    "Homebrew if the config script overrides a system or Homebrew provided\n",
    "script of the same name. We found the following \"config\" scripts:\n",
    "  /Users/MAC/.pyenv/shims/icu-config\n",
    "  /Users/MAC/.pyenv/shims/libpng16-config\n",
    "  /Users/MAC/.pyenv/shims/python3.6m-config\n",
    "  /Users/MAC/.pyenv/shims/python-config\n",
    "  /Users/MAC/.pyenv/shims/python3-config\n",
    "  /Users/MAC/.pyenv/shims/python3.6-config\n",
    "```\n",
    "\n",
    "1. `~/.config/fish/config.fish` に下記を追加\n",
    "\n",
    "```ruby\n",
    "function brew\n",
    "    set -l index (contains -i $HOME/.pyenv/shims $PATH)\n",
    "    set PATH[$index] /bin # /bin is dummy\n",
    "    command brew $argv\n",
    "    set PATH[$index] $HOME/.pyenv/shims\n",
    "end\n",
    "```\n"
   ]
  },
  {
   "cell_type": "markdown",
   "metadata": {},
   "source": [
    "## fish"
   ]
  },
  {
   "cell_type": "markdown",
   "metadata": {},
   "source": [
    "### fish\n",
    "1. brewよりfishを以下コマンドで実行．\n",
    "```ruby\n",
    "brew install fish\n",
    "chsh -s /usr/local/bin/fish\n",
    "```\n",
    "```ruby\n",
    "chsh: /usr/local/bin/fish: non-standard shell\n",
    "```\n",
    "と表示されたら，管理者権限で\n",
    "```ruby \n",
    "sudo emacs /etc/shells\n",
    "```\n",
    "/etc/shells に fish を追加していなかったため\n",
    "ファイル末尾に「/usr/local/bin/fish」を追記\n",
    "もう一度実行\n",
    "```ruby\n",
    "chsh -s /usr/local/bin/fish\n",
    "```"
   ]
  },
  {
   "cell_type": "markdown",
   "metadata": {},
   "source": [
    "### fisherman\n",
    "1. install [fisherman](https://github.com/fisherman/fisherman)\n",
    "```ruby\n",
    "curl -Lo ~/.config/fish/functions/fisher.fish --create-dirs https://git.io/fisher\n",
    "```\n",
    "1. install a plugin (themeのインストールと[font](https://github.com/powerline/fonts)の設定) \n",
    "```ruby\n",
    "fisher omf/theme-bobthefish\n",
    "# clone\n",
    "git clone https://github.com/powerline/fonts.git --depth=1\n",
    "# install\n",
    "cd fonts\n",
    "./install.sh\n",
    "# clean-up a bit\n",
    "cd ..\n",
    "rm -rf fonts\n",
    "```\n",
    "fontがインストールされたら，その後環環境設定を開いてfontを D2Coding for Powerlineに設定"
   ]
  },
  {
   "cell_type": "markdown",
   "metadata": {},
   "source": [
    "## emacs"
   ]
  },
  {
   "cell_type": "markdown",
   "metadata": {},
   "source": [
    "### emacs\n",
    "macに元々入っているemacsでも良いが，バージョンがかなり古い．updateしたい方はしてね．\n",
    "1. brewよりインストールする\n",
    "```ruby\n",
    "brew tap railwaycat/emacsmacport\n",
    "brew install emacs-mac --with-modern-icon\n",
    "```\n",
    "2. emacsのバージョンを確認して，上がっていたら成功\n",
    "```ruby\n",
    "emacs --version\n",
    "```"
   ]
  },
  {
   "cell_type": "markdown",
   "metadata": {},
   "source": [
    "### init.el\n",
    "emacsを文字をカラーにしたり設定する\n",
    "emacsの設定ファイルが，\n",
    "`\n",
    "/Users/$(whoami)/.emacs.d\n",
    "`\n",
    "にあるので，その中に***init.el***ファイルを作成する．\n",
    "下記に，サンプルを置いとくが，自分好みに設定することをお勧めする．\n",
    "```ruby\n",
    "; start package.el with emacs\n",
    "(require 'package)\n",
    "; add MELPA to repository list\n",
    "(add-to-list 'package-archives '(\"melpa\" . \"http://melpa.milkbox.net/packages/\"))\n",
    "; initialize package.el\n",
    "(package-initialize)\n",
    "; start auto-complete with emacs\n",
    "(require 'auto-complete)\n",
    "; do default config for auto-complete\n",
    "(require 'auto-complete-config)\n",
    "(ac-config-default)\n",
    "\n",
    "(electric-pair-mode 1)\n",
    "\n",
    "(require 'linum)\n",
    "(global-linum-mode 1)\n",
    "(package-initialize)\n",
    "(setq package-archives\n",
    "      '((\"gnu\" . \"http://elpa.gnu.org/packages/\")\n",
    "        (\"melpa\" . \"http://melpa.org/packages/\")\n",
    "        (\"org\" . \"http://orgmode.org/elpa/\")))\n",
    "\n",
    ";----------------------------------------------------------------------\n",
    ";パッケージの取得の追加\n",
    ";----------------------------------------------------------------------\n",
    "(require 'package)\n",
    "(add-to-list 'package-archives '(\"melpa\" . \"http://melpa.milkbox.net/packages/\") t)\n",
    "(add-to-list 'package-archives '(\"marmalade\" . \"http://marmalade-repo.org/packages/\"))\n",
    "(package-initialize)\n",
    ";-----------------------------------------------------------------------\n",
    "\n",
    "(setq load-path (cons \"~/.emacs.d/ruby-mode\" load-path))\n",
    "(autoload 'ruby-mode \"ruby-mode\"\n",
    "  \"Mode for editing ruby source files\" t)\n",
    "(add-to-list 'auto-mode-alist '(\"\\\\.rb$\" . ruby-mode))\n",
    "\n",
    "(set-language-environment \"Japanese\")\n",
    "(setq default-input-method \"japanese-mozc\")\n",
    "(prefer-coding-system 'utf-8)\n",
    "\n",
    "\n",
    "; ------------------------------------------------------------------------\n",
    "; auto-install\n",
    "; http://www.emacswiki.org/emacs/download/auto-install.el\n",
    "; ------------------------------------------------------------------------\n",
    "(when(require 'auto-install nil t)\n",
    ";;インストールディレクトリを設定。.emacs.d/elispに入れる。\n",
    "(setq auto-install-directory \"~/.emacs.d/elisp/\")\n",
    ";;EmacsWikiに登録されているelispの名前を取得する\n",
    "(auto-install-update-emacswiki-package-name t)\n",
    ";;必要であればプロキシの設定を行う\n",
    ";;(setq url-proxy-services '((\"http\" . \"hogehoge\")))\n",
    ";;install-elispの関数を利用可能にする\n",
    "(auto-install-compatibility-setup))\n",
    "(custom-set-variables\n",
    " ;; custom-set-variables was added by Custom.\n",
    " ;; If you edit it by hand, you could mess it up, so be careful.\n",
    " ;; Your init file should contain only one such instance.\n",
    " ;; If there is more than one, they won't work right.\n",
    " '(package-selected-packages\n",
    "   (quote\n",
    "    (smooth-scroll package-utils yaml-mode flycheck undo-tree undohist web-mode rainbo\\\n",
    "  w-delimiters ac-dabbrev auto-complete-c-headers auto-complete nlinum))))\n",
    "(custom-set-faces\n",
    " ;; custom-set-faces was added by Custom.\n",
    " ;; If you edit it by hand, you could mess it up, so be careful.\n",
    " ;; Your init file should contain only one such instance.\n",
    " ;; If there is more than one, they won't work right.\n",
    " )\n",
    "\n",
    "(cond (window-system\n",
    "(setq x-select-enable-clipboard t)\n",
    "))\n",
    "(put 'upcase-region 'disabled nil)\n",
    "\n",
    ";-------------------------------------------------------------------------\n",
    ";undo-tree setting\n",
    ";-------------------------------------------------------------------------\n",
    ";; undohistの設定\n",
    "(when (require 'undohist nil t)\n",
    "  (undohist-initialize))\n",
    "\n",
    ";; undo-treeモードの設定\n",
    "(when (require 'undo-tree nil t)\n",
    "  (global-undo-tree-mode))\n",
    "\n",
    "\n",
    ";-----------------------------------------------------------------------\n",
    "(package-initialize)\n",
    "(setq package-archives\n",
    "      '((\"gnu\" . \"http://elpa.gnu.org/packages/\")\n",
    "        (\"melpa\" . \"http://melpa.org/packages/\")\n",
    "        (\"org\" . \"http://orgmode.org/elpa/\")))\n",
    "\n",
    ";-----------------------------------------------------------------------\n",
    ";-----------------------------------------------------------------------\n",
    "(defface hlline-face\n",
    "  '((((class color)\n",
    "      (background dark))\n",
    "     (:background \"#ffa449\"))\n",
    "    (((class color)\n",
    "      (background light))\n",
    "     (:background \"#1e1e1e\"))\n",
    "    (t\n",
    "     ()))\n",
    "  \"*Face used by hl-line.\")\n",
    "(setq hl-line-face 'hlline-face)\n",
    ";; (setq hl-line-face 'underline) ; 下線\n",
    "(global-hl-line-mode)\n",
    "\n",
    ";; flycheck\n",
    "(add-hook 'ruby-mode-hook\n",
    "          '(lambda ()\n",
    "             (setq flycheck-checker 'ruby-rubocop)\n",
    "             (flycheck-mode 1)))\n",
    "```"
   ]
  },
  {
   "cell_type": "markdown",
   "metadata": {},
   "source": [
    "## rbenv"
   ]
  },
  {
   "cell_type": "markdown",
   "metadata": {},
   "source": [
    "1. rbenvをbrewからインストール\n",
    "```ruby\n",
    "brew install rbenv\n",
    "```\n",
    "1. rbenvがインストールされたら，fishでrbenvの設定が自動でできるものがあるのでそれを使う\n",
    "```ruby\n",
    "fisher rbenv\n",
    "```"
   ]
  },
  {
   "cell_type": "markdown",
   "metadata": {},
   "source": [
    "## pyenv"
   ]
  },
  {
   "cell_type": "markdown",
   "metadata": {},
   "source": [
    "1. pyenvをbrewからインストール\n",
    "```ruby\n",
    "brew install pyenv\n",
    "```\n",
    "1. pyenvがインストールされたら，fishでpyenvの設定が自動でできるものがあるのでそれを使う\n",
    "```ruby\n",
    "fisher pyenv\n",
    "```"
   ]
  },
  {
   "cell_type": "markdown",
   "metadata": {},
   "source": [
    "## jupyter notebook"
   ]
  },
  {
   "cell_type": "markdown",
   "metadata": {},
   "source": [
    "### anaconda and jupyter notebook\n",
    "anacondaを利用して，pythonとjupyter notebookの環境を構築する\n",
    "```ruby\n",
    "# installできるversionを探す\n",
    "pyenv install -l\n",
    "pyenv install anaconda3-5.0.0\n",
    "```\n",
    "今回は，anaconda3-5.0.0を使用してjupyter notebookを使用する"
   ]
  },
  {
   "cell_type": "markdown",
   "metadata": {},
   "source": [
    "### ruby kernel\n",
    "jupyter notebookでrubyを使うために，rubyのkernelを入れる\n",
    "\n",
    "zeromqとかの記述は，どっかで書いたのでまたリンク貼ります．\n",
    "```ruby\n",
    "brew install zeromq --HEAD\n",
    "brew install czmq --HEAD\n",
    "gem install cztop iruby\n",
    "iruby register --force\n",
    "```"
   ]
  },
  {
   "cell_type": "markdown",
   "metadata": {},
   "source": [
    "### nbextensions"
   ]
  },
  {
   "cell_type": "markdown",
   "metadata": {},
   "source": [
    "#### conda\n",
    "jupyterにある拡張機能のnbextensionsをインストールする．\n",
    "\n",
    "anacondaでjupyterをinstallしているので，condaコマンドが使えるため，下記の方法でインストールする．\n",
    "```ruby\n",
    "conda install -y -c conda-forge jupyter_contrib_nbextensions\n",
    "```"
   ]
  },
  {
   "cell_type": "markdown",
   "metadata": {},
   "source": [
    "#### pip\n",
    "condaでもインストールできるが，Table of Contentsの挙動が少しおかしいので，pipの方がいいかもしれない．\n",
    "```ruby\n",
    "pip install https://github.com/ipython-contrib/jupyter_contrib_nbextensions/tarball/master\n",
    "jupyter contrib nbextension install --user\n",
    "```\n"
   ]
  },
  {
   "cell_type": "markdown",
   "metadata": {},
   "source": [
    "## tex"
   ]
  },
  {
   "cell_type": "markdown",
   "metadata": {},
   "source": [
    "### MacTeX\n",
    "TeX Live をフルインストールする場合は MacTeX をインストールしてください．homebrewでMacTeX をインストールできます. Ghostscript などのツールも Homebrew でインストールできます.\n",
    "```ruby\n",
    "brew cask install mactex\n",
    "# open new terminal\n",
    "sudo tlmgr update --self --all\n",
    "sudo tlmgr paper a4\n",
    "```"
   ]
  },
  {
   "cell_type": "code",
   "execution_count": null,
   "metadata": {
    "collapsed": true
   },
   "outputs": [],
   "source": []
  }
 ],
 "metadata": {
  "kernelspec": {
   "display_name": "Ruby 2.4.1",
   "language": "ruby",
   "name": "ruby"
  },
  "language_info": {
   "file_extension": ".rb",
   "mimetype": "application/x-ruby",
   "name": "ruby",
   "version": "2.4.2"
  },
  "latex_envs": {
   "LaTeX_envs_menu_present": true,
   "autocomplete": true,
   "bibliofile": "biblio.bib",
   "cite_by": "apalike",
   "current_citInitial": 1,
   "eqLabelWithNumbers": true,
   "eqNumInitial": 1,
   "hotkeys": {
    "equation": "Ctrl-E",
    "itemize": "Ctrl-I"
   },
   "labels_anchors": false,
   "latex_user_defs": false,
   "report_style_numbering": false,
   "user_envs_cfg": false
  },
  "nbTranslate": {
   "displayLangs": [
    "*"
   ],
   "hotkey": "alt-t",
   "langInMainMenu": true,
   "sourceLang": "en",
   "targetLang": "fr",
   "useGoogleTranslate": true
  },
  "toc": {
   "nav_menu": {
    "height": "102px",
    "width": "252px"
   },
   "number_sections": true,
   "sideBar": true,
   "skip_h1_title": false,
   "toc_cell": true,
   "toc_position": {
    "height": "731px",
    "left": "0px",
    "right": "1130.955810546875px",
    "top": "110.99264526367188px",
    "width": "375px"
   },
   "toc_section_display": "block",
   "toc_window_display": true
  },
  "varInspector": {
   "cols": {
    "lenName": 16,
    "lenType": 16,
    "lenVar": 40
   },
   "kernels_config": {
    "python": {
     "delete_cmd_postfix": "",
     "delete_cmd_prefix": "del ",
     "library": "var_list.py",
     "varRefreshCmd": "print(var_dic_list())"
    },
    "r": {
     "delete_cmd_postfix": ") ",
     "delete_cmd_prefix": "rm(",
     "library": "var_list.r",
     "varRefreshCmd": "cat(var_dic_list()) "
    }
   },
   "types_to_exclude": [
    "module",
    "function",
    "builtin_function_or_method",
    "instance",
    "_Feature"
   ],
   "window_display": false
  }
 },
 "nbformat": 4,
 "nbformat_minor": 2
}
