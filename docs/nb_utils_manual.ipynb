{
 "cells": [
  {
   "cell_type": "markdown",
   "metadata": {
    "toc": "true"
   },
   "source": [
    "<h1>Table of Contents<span class=\"tocSkip\"></span></h1>\n",
    "<div class=\"toc\" style=\"margin-top: 1em;\"><ul class=\"toc-item\"><li><span><a href=\"#nb_util-manual\" data-toc-modified-id=\"nb_util-manual-1\"><span class=\"toc-item-num\">1&nbsp;&nbsp;</span>nb_util manual</a></span><ul class=\"toc-item\"><li><span><a href=\"#目的\" data-toc-modified-id=\"目的-1.1\"><span class=\"toc-item-num\">1.1&nbsp;&nbsp;</span>目的</a></span></li><li><span><a href=\"#How-to-use\" data-toc-modified-id=\"How-to-use-1.2\"><span class=\"toc-item-num\">1.2&nbsp;&nbsp;</span>How to use</a></span><ul class=\"toc-item\"><li><span><a href=\"#名前\" data-toc-modified-id=\"名前-1.2.1\"><span class=\"toc-item-num\">1.2.1&nbsp;&nbsp;</span>名前</a></span></li><li><span><a href=\"#概要\" data-toc-modified-id=\"概要-1.2.2\"><span class=\"toc-item-num\">1.2.2&nbsp;&nbsp;</span>概要</a></span></li><li><span><a href=\"#問題点\" data-toc-modified-id=\"問題点-1.2.3\"><span class=\"toc-item-num\">1.2.3&nbsp;&nbsp;</span>問題点</a></span></li><li><span><a href=\"#特徴\" data-toc-modified-id=\"特徴-1.2.4\"><span class=\"toc-item-num\">1.2.4&nbsp;&nbsp;</span>特徴</a></span></li><li><span><a href=\"#使用法\" data-toc-modified-id=\"使用法-1.2.5\"><span class=\"toc-item-num\">1.2.5&nbsp;&nbsp;</span>使用法</a></span><ul class=\"toc-item\"><li><span><a href=\"#インストール\" data-toc-modified-id=\"インストール-1.2.5.1\"><span class=\"toc-item-num\">1.2.5.1&nbsp;&nbsp;</span>インストール</a></span></li></ul></li></ul></li></ul></li><li><span><a href=\"#my-day-today-was-...\" data-toc-modified-id=\"my-day-today-was-...-2\"><span class=\"toc-item-num\">2&nbsp;&nbsp;</span>my day today was ...</a></span><ul class=\"toc-item\"><li><span><a href=\"#YYYY/MM/DD\" data-toc-modified-id=\"YYYY/MM/DD-2.1\"><span class=\"toc-item-num\">2.1&nbsp;&nbsp;</span>YYYY/MM/DD</a></span><ul class=\"toc-item\"><li><span><a href=\"#【0】本日の業務\" data-toc-modified-id=\"【0】本日の業務-2.1.1\"><span class=\"toc-item-num\">2.1.1&nbsp;&nbsp;</span>【0】本日の業務</a></span></li><li><span><a href=\"#【1】本日の気付き\" data-toc-modified-id=\"【1】本日の気付き-2.1.2\"><span class=\"toc-item-num\">2.1.2&nbsp;&nbsp;</span>【1】本日の気付き</a></span></li><li><span><a href=\"#【2】次回の課題（蓄積）\" data-toc-modified-id=\"【2】次回の課題（蓄積）-2.1.3\"><span class=\"toc-item-num\">2.1.3&nbsp;&nbsp;</span>【2】次回の課題（蓄積）</a></span></li></ul></li><li><span><a href=\"#2017/11/16\" data-toc-modified-id=\"2017/11/16-2.2\"><span class=\"toc-item-num\">2.2&nbsp;&nbsp;</span>2017/11/16</a></span><ul class=\"toc-item\"><li><span><a href=\"#【0】本日の業務\" data-toc-modified-id=\"【0】本日の業務-2.2.1\"><span class=\"toc-item-num\">2.2.1&nbsp;&nbsp;</span>【0】本日の業務</a></span></li><li><span><a href=\"#【1】本日の気付き\" data-toc-modified-id=\"【1】本日の気付き-2.2.2\"><span class=\"toc-item-num\">2.2.2&nbsp;&nbsp;</span>【1】本日の気付き</a></span></li><li><span><a href=\"#【2】次回の課題（蓄積）\" data-toc-modified-id=\"【2】次回の課題（蓄積）-2.2.3\"><span class=\"toc-item-num\">2.2.3&nbsp;&nbsp;</span>【2】次回の課題（蓄積）</a></span></li></ul></li><li><span><a href=\"#2017/11/17\" data-toc-modified-id=\"2017/11/17-2.3\"><span class=\"toc-item-num\">2.3&nbsp;&nbsp;</span>2017/11/17</a></span><ul class=\"toc-item\"><li><span><a href=\"#【0】本日の業務\" data-toc-modified-id=\"【0】本日の業務-2.3.1\"><span class=\"toc-item-num\">2.3.1&nbsp;&nbsp;</span>【0】本日の業務</a></span></li><li><span><a href=\"#【1】本日の気付き\" data-toc-modified-id=\"【1】本日の気付き-2.3.2\"><span class=\"toc-item-num\">2.3.2&nbsp;&nbsp;</span>【1】本日の気付き</a></span></li><li><span><a href=\"#【2】次回の課題（蓄積）\" data-toc-modified-id=\"【2】次回の課題（蓄積）-2.3.3\"><span class=\"toc-item-num\">2.3.3&nbsp;&nbsp;</span>【2】次回の課題（蓄積）</a></span></li></ul></li><li><span><a href=\"#2017/11/22\" data-toc-modified-id=\"2017/11/22-2.4\"><span class=\"toc-item-num\">2.4&nbsp;&nbsp;</span>2017/11/22</a></span><ul class=\"toc-item\"><li><span><a href=\"#【0】本日の業務\" data-toc-modified-id=\"【0】本日の業務-2.4.1\"><span class=\"toc-item-num\">2.4.1&nbsp;&nbsp;</span>【0】本日の業務</a></span></li><li><span><a href=\"#【1】本日の気付き\" data-toc-modified-id=\"【1】本日の気付き-2.4.2\"><span class=\"toc-item-num\">2.4.2&nbsp;&nbsp;</span>【1】本日の気付き</a></span></li><li><span><a href=\"#【2】次回の課題（蓄積）\" data-toc-modified-id=\"【2】次回の課題（蓄積）-2.4.3\"><span class=\"toc-item-num\">2.4.3&nbsp;&nbsp;</span>【2】次回の課題（蓄積）</a></span></li></ul></li><li><span><a href=\"#YYYY/MM/DD\" data-toc-modified-id=\"YYYY/MM/DD-2.5\"><span class=\"toc-item-num\">2.5&nbsp;&nbsp;</span>YYYY/MM/DD</a></span><ul class=\"toc-item\"><li><span><a href=\"#【0】本日の業務\" data-toc-modified-id=\"【0】本日の業務-2.5.1\"><span class=\"toc-item-num\">2.5.1&nbsp;&nbsp;</span>【0】本日の業務</a></span></li><li><span><a href=\"#【1】本日の気付き\" data-toc-modified-id=\"【1】本日の気付き-2.5.2\"><span class=\"toc-item-num\">2.5.2&nbsp;&nbsp;</span>【1】本日の気付き</a></span></li><li><span><a href=\"#【2】次回の課題（蓄積）\" data-toc-modified-id=\"【2】次回の課題（蓄積）-2.5.3\"><span class=\"toc-item-num\">2.5.3&nbsp;&nbsp;</span>【2】次回の課題（蓄積）</a></span></li></ul></li></ul></li></ul></div>"
   ]
  },
  {
   "cell_type": "markdown",
   "metadata": {},
   "source": [
    "# nb_util manual"
   ]
  },
  {
   "cell_type": "markdown",
   "metadata": {},
   "source": [
    "## 目的\n",
    "\n",
    "* 何を提供する\n",
    "  * my_helpにあるメモをnoteに変換\n",
    "  * jupyter notebookの二つのファイルを一つにまとめる．\n",
    "  * jupyter notebookから，ソースコードを抜き出し，ファイルにする．\n",
    "  * jupyter notebookの中身だけを表示する．\n",
    "  * \n",
    "\n",
    "* 何をしたい\n",
    "  * このsoftwareは，jupyter notebookを使用する者を対象に，一層利便性を上げるためのものです．"
   ]
  },
  {
   "cell_type": "markdown",
   "metadata": {},
   "source": [
    "## How to use"
   ]
  },
  {
   "cell_type": "markdown",
   "metadata": {},
   "source": [
    "### 名前\n",
    "nb_util"
   ]
  },
  {
   "cell_type": "markdown",
   "metadata": {},
   "source": [
    "### 概要\n",
    "\n"
   ]
  },
  {
   "cell_type": "markdown",
   "metadata": {},
   "source": [
    "### 問題点\n"
   ]
  },
  {
   "cell_type": "markdown",
   "metadata": {},
   "source": [
    "### 特徴\n",
    "これらをgem環境として提供しようというのが，このgemの目的です． 仕様としては，\n"
   ]
  },
  {
   "cell_type": "markdown",
   "metadata": {},
   "source": [
    "### 使用法\n",
    "\n",
    "#### インストール\n",
    "\n",
    "インストールですが，gemの標準とは違ったやり方になります．GithubからForkしてcloneします．\n",
    "\n",
    "git clone git@github.com:daddygongon/my_help.git\n",
    "あとの作業はbundleを使って行います．\n"
   ]
  },
  {
   "cell_type": "markdown",
   "metadata": {},
   "source": [
    "# my day today was ..."
   ]
  },
  {
   "cell_type": "markdown",
   "metadata": {
    "heading_collapsed": true
   },
   "source": [
    "## YYYY/MM/DD"
   ]
  },
  {
   "cell_type": "markdown",
   "metadata": {
    "heading_collapsed": true,
    "hidden": true
   },
   "source": [
    "### 【0】本日の業務"
   ]
  },
  {
   "cell_type": "markdown",
   "metadata": {
    "hidden": true
   },
   "source": [
    "### 【1】本日の気付き"
   ]
  },
  {
   "cell_type": "markdown",
   "metadata": {
    "hidden": true
   },
   "source": [
    "### 【2】次回の課題（蓄積）"
   ]
  },
  {
   "cell_type": "markdown",
   "metadata": {},
   "source": [
    "## 2017/11/16"
   ]
  },
  {
   "cell_type": "markdown",
   "metadata": {},
   "source": [
    "### 【0】本日の業務\n",
    "今日は，nb_utilのgetcode commandを作成した．\n",
    "\n",
    "このコマンドは，宮下さんが，jupyter でプログラムを組んでいて，jupyterで組んでいる場合，\n",
    "入力の受付などは，出来ないため，emacs上で作り直したいのだが，コピペするしかないのか，という不満から生まれたコマンドである．\n",
    "何回も同じことはしたくないので，プログラムにしてしまった，というのが経緯である．\n",
    "非常に便利笑\n"
   ]
  },
  {
   "cell_type": "markdown",
   "metadata": {},
   "source": [
    "### 【1】本日の気付き\n",
    "昨日から，getcodeの作成をしていたが，hashの中の，arrayをどのようにして取り出すのかがうまいこといかなかった．\n",
    "\n",
    "おそらく，今出来ているプログラムは，5, 6行で治る気がするので，リファクタリングをして，綺麗にする．\n",
    "\n"
   ]
  },
  {
   "cell_type": "markdown",
   "metadata": {},
   "source": [
    "### 【2】次回の課題（蓄積）\n",
    "1. そろそろ，マニュアル書かなあかんよな\n",
    "1. 要るコマンドまだまだあると思う\n",
    "1. spec書かなあかんよな，testせないかん\n",
    "1. コード綺麗にしよう\n",
    "1. nbutil.rbのコード，nbutil/ここ，に写すか，じゃないと他のコードは，ここにあるのにconverterだけ，nbutil.rbに直で書いてるから，わかりにくい．"
   ]
  },
  {
   "cell_type": "markdown",
   "metadata": {},
   "source": [
    "## 2017/11/17"
   ]
  },
  {
   "cell_type": "markdown",
   "metadata": {},
   "source": [
    "### 【0】本日の業務\n",
    "今日は，nb_utilのgetcode commandを編集した．\n",
    "昨日は，取り出した後の，フォーマットが，ruby限定になっていたが，そこを直した．"
   ]
  },
  {
   "cell_type": "markdown",
   "metadata": {},
   "source": [
    "### 【1】本日の気付き\n",
    "getcode commandは，作成できたが，昨日も言うていたが，もっと簡単に書くことができると思った．"
   ]
  },
  {
   "cell_type": "markdown",
   "metadata": {},
   "source": [
    "### 【2】次回の課題（蓄積）\n",
    "1. そろそろ，マニュアル書かなあかんよな\n",
    "1. 要るコマンドまだまだあると思う\n",
    "1. spec書かなあかんよな，testせないかん\n",
    "1. コード綺麗にしよう\n",
    "1. nbutil.rbのコード，nbutil/ここ，に写すか，じゃないと他のコードは，ここにあるのにconverterだけ，nbutil.rbに直で書いてるから，わかりにくい．"
   ]
  },
  {
   "cell_type": "markdown",
   "metadata": {},
   "source": [
    "## 2017/11/22"
   ]
  },
  {
   "cell_type": "markdown",
   "metadata": {},
   "source": [
    "### 【0】本日の業務"
   ]
  },
  {
   "cell_type": "markdown",
   "metadata": {},
   "source": [
    "### 【1】本日の気付き\n",
    "* 個別と，オープンな物に分ける．\n",
    "* mvc\n",
    "* どこに物を置くのか\n",
    "  * rake\n",
    "  * nb_util\n",
    "  * 設定ファイル\n",
    "* spec fileが一番振る舞いとしてわかりやすい．\n",
    "* 雛形は，榊さんのtexファイルを参考に，ipynb to texのconverterを作成していく\n",
    "* とりあえず，作成するのは，卒論提出の方の，形で良い\n",
    "  * のちに，hand outのやつ作ろか\n"
   ]
  },
  {
   "cell_type": "markdown",
   "metadata": {},
   "source": [
    "### 【2】次回の課題（蓄積）\n",
    "1. そろそろ，マニュアル書かなあかんよな\n",
    "1. 要るコマンドまだまだあると思う\n",
    "1. spec書かなあかんよな，testせないかん\n",
    "1. コード綺麗にしよう\n",
    "1. nbutil.rbのコード，nbutil/ここ，に写すか，じゃないと他のコードは，ここにあるのにconverterだけ，nbutil.rbに直で書いてるから，わかりにくい．\n",
    "1. 榊さんの，texを確認する．\n",
    "1. texのテンプレを作成．\n",
    "1. ipynbから，chapterごとに取り出す．\n"
   ]
  },
  {
   "cell_type": "markdown",
   "metadata": {},
   "source": [
    "## YYYY/MM/DD"
   ]
  },
  {
   "cell_type": "markdown",
   "metadata": {},
   "source": [
    "### 【0】本日の業務"
   ]
  },
  {
   "cell_type": "markdown",
   "metadata": {},
   "source": [
    "### 【1】本日の気付き"
   ]
  },
  {
   "cell_type": "markdown",
   "metadata": {},
   "source": [
    "### 【2】次回の課題（蓄積）"
   ]
  },
  {
   "cell_type": "code",
   "execution_count": null,
   "metadata": {},
   "outputs": [],
   "source": []
  }
 ],
 "metadata": {
  "kernelspec": {
   "display_name": "Ruby 2.4.1",
   "language": "ruby",
   "name": "ruby"
  },
  "language_info": {
   "file_extension": ".rb",
   "mimetype": "application/x-ruby",
   "name": "ruby",
   "version": "2.4.2"
  },
  "nbTranslate": {
   "displayLangs": [
    "*"
   ],
   "hotkey": "alt-t",
   "langInMainMenu": true,
   "sourceLang": "en",
   "targetLang": "fr",
   "useGoogleTranslate": true
  },
  "toc": {
   "nav_menu": {
    "height": "138px",
    "width": "252px"
   },
   "number_sections": true,
   "sideBar": true,
   "skip_h1_title": false,
   "toc_cell": true,
   "toc_position": {
    "height": "731px",
    "left": "0px",
    "right": "1256.948486328125px",
    "top": "110.99264526367188px",
    "width": "249px"
   },
   "toc_section_display": "block",
   "toc_window_display": true
  }
 },
 "nbformat": 4,
 "nbformat_minor": 2
}
