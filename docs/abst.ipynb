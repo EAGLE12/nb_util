{
 "cells": [
  {
   "cell_type": "markdown",
   "metadata": {
    "toc": "true"
   },
   "source": [
    "# Table of Contents\n",
    " <p><div class=\"lev2 toc-item\"><a href=\"#step1-方策\" data-toc-modified-id=\"step1-方策-01\"><span class=\"toc-item-num\">0.1&nbsp;&nbsp;</span>step1 方策</a></div><div class=\"lev2 toc-item\"><a href=\"#背景\" data-toc-modified-id=\"背景-02\"><span class=\"toc-item-num\">0.2&nbsp;&nbsp;</span>背景</a></div><div class=\"lev2 toc-item\"><a href=\"#目的\" data-toc-modified-id=\"目的-03\"><span class=\"toc-item-num\">0.3&nbsp;&nbsp;</span>目的</a></div><div class=\"lev2 toc-item\"><a href=\"#手法\" data-toc-modified-id=\"手法-04\"><span class=\"toc-item-num\">0.4&nbsp;&nbsp;</span>手法</a></div><div class=\"lev2 toc-item\"><a href=\"#今後\" data-toc-modified-id=\"今後-05\"><span class=\"toc-item-num\">0.5&nbsp;&nbsp;</span>今後</a></div>"
   ]
  },
  {
   "cell_type": "markdown",
   "metadata": {},
   "source": [
    "## step1 方策\n",
    "\n",
    "目標:今作ったようなツールをnbutilsとしてrubyのcliで作る\n",
    "\n",
    "仕様:\n",
    "* nbutils rename *.png mid[].png\n",
    "* ...\n",
    "* [github](https://github.com/daddygongon/notebook_root) に入れてるんで，そのあたり読んで，manualを作れ．(10/25発表)"
   ]
  },
  {
   "cell_type": "markdown",
   "metadata": {},
   "source": [
    "## 背景\n",
    "\n",
    "暗黙知の形式知化はいくつものシステムで行われている．\n",
    "ウェブ検索でよく上位に出てくるQiita.comや個人ブログなど，\n",
    "自分の知恵をまとめて提供している．\n",
    "本研究室には，ユーザーメモソフトmy\\_helpというものがある．\n",
    "これは，本研究室西谷が開発したものであり，\n",
    "terminal上で使用するため，\n",
    "自然とCUI(Character User Interface)スキルを身に付けることができる．\n",
    "更に，terminalから離れることなくメモを残すことができるので，\n",
    "書きたい内容を忘れず，すぐに書くことができる．\n",
    "自分自身が大切だと思いメモをした内容は，\n",
    "研究室のメンバーまたは，同じ方向に向かって何かに取り組んでいる者にとっては，\n",
    "有益かつ共有したい情報である．\n",
    "\n",
    "また研究室のメンバーがメモ(暗黙知)をした内容を，\n",
    "ゼミを欠席した者に共有したくても\n",
    "そのメモは所有者個人しか閲覧することができない．\n",
    "更にこのメモを共有するために\n",
    "清書(形式知化)する際，通常メモと異なったフォーマットで記述されるため，\n",
    "一つの箇所に修正があると全てに対応しなければならなくなる．\n",
    "メモの量が，数が少なければ\n",
    "手作業で変換することは可能だが，\n",
    "メモの数が増え，それを手作業でやっていては手間も時間も掛かり，\n",
    "それだけでなく誤りも起きやすくなる．\n",
    "これは，プログラマの心得である，DRY(Don't Repeat Yourself)原則を破ることになる\\cite{pragmatic_prog}．\n",
    "したがって，可能な限り自動化すべきである．\n",
    "\n",
    "![no1](./figs/mid03.png)"
   ]
  },
  {
   "cell_type": "markdown",
   "metadata": {},
   "source": [
    "## 目的\n",
    "本研究では，my¥_helpのデータを\n",
    "Jupyter notebookで扱える形式に自動変換するシステムを構築する．\n",
    "\n",
    "手間と時間が掛からずに，\n",
    "更に間違いなく清書し共有することができるようになることで，\n",
    "その日のゼミの内容を欠席した者にも正確に伝えることができる．\n",
    "加えて，自分が調べた内容も，\n",
    "研究室のメンバーと容易に共有できるようにすることができる．"
   ]
  },
  {
   "cell_type": "markdown",
   "metadata": {},
   "source": [
    "## 手法\n",
    "Jupyter notebookは，プログラムに関係するメモや，\n",
    "出力結果をひとまとまりに保存する機能を持ち，\n",
    "Githubなどのサービスで，共有することができるシステムである．\n",
    "ノートブックと呼ばれる形式にドキュメントを作成し，\n",
    "プログラムの記述と実行，メモなどを作成し，\n",
    "ブラウザー上で動作する対話型実行環境である¥cite{Jupyter}．\n",
    "西谷研究室では，\n",
    "個々の研究内容をバックアップするためにGithubを使用しており，\n",
    "西谷からの情報もそこに公開されている．\n",
    "その為，西谷研の学生はどこからでもアクセスし，\n",
    "好きなタイミングで自分の情報を更新することが可能である．\n",
    "そこで，自分のmy¥_helpにあるメモを図1のように\n",
    "my¥_helpからJupyter notebookに変換するシステムを構築することで，\n",
    "メモからノートに自動変換が可能になり，\n",
    "my¥_helpとJupyter notebookの連携ができるようになる．\n",
    "更に，\n",
    "Jupyter notebookにあるGithubとの連携機能を使用することで，\n",
    "今まで個人のメモであったものが，\n",
    "その情報を必要としている複数の人に，\n",
    "共有することができる．\n",
    "\n",
    "my¥_helpのメモは，yaml形式で書かれており，\n",
    "Jupyter notebookはjsonで書かれている．\n",
    "yamlからjsonのフォーマット変換を行うことで，\n",
    "my¥_help to Jupyter notebookを実現する．"
   ]
  },
  {
   "cell_type": "markdown",
   "metadata": {},
   "source": [
    "## 今後\n",
    "現状上記の変換コードは，プロトタイプとして変換を確認している．\n",
    "しかし，\n",
    "変換した際に，my¥_helpに書かれているメモをどのようなフォーマットで\n",
    "Jupyter notebookに表示させるかの指定が出来ていない．\n",
    "また，共有に際して便利な機能として，\n",
    "ランク付け，コメント，要望などがある．\n",
    "これらは，Githubが提供するforkおよびpull requestの機能で\n",
    "実現されているため，それらを利用するシステムを今後構築していく．\n",
    "更に，my¥_helpからJupyter notebookへ変換を実行するコマンドが各自の環境に必要である．\n",
    "これらの作業を管理者が行うシステムへ変更していく．"
   ]
  },
  {
   "cell_type": "code",
   "execution_count": null,
   "metadata": {},
   "outputs": [],
   "source": []
  }
 ],
 "metadata": {
  "kernelspec": {
   "display_name": "Ruby 2.4.1",
   "language": "ruby",
   "name": "ruby"
  },
  "language_info": {
   "file_extension": ".rb",
   "mimetype": "application/x-ruby",
   "name": "ruby",
   "version": "2.4.2"
  },
  "latex_envs": {
   "LaTeX_envs_menu_present": true,
   "autocomplete": true,
   "bibliofile": "biblio.bib",
   "cite_by": "apalike",
   "current_citInitial": 1,
   "eqLabelWithNumbers": true,
   "eqNumInitial": 1,
   "hotkeys": {
    "equation": "Ctrl-E",
    "itemize": "Ctrl-I"
   },
   "labels_anchors": false,
   "latex_user_defs": false,
   "report_style_numbering": false,
   "user_envs_cfg": false
  },
  "toc": {
   "colors": {
    "hover_highlight": "#DAA520",
    "navigate_num": "#000000",
    "navigate_text": "#333333",
    "running_highlight": "#FF0000",
    "selected_highlight": "#FFD700",
    "sidebar_border": "#EEEEEE",
    "wrapper_background": "#FFFFFF"
   },
   "moveMenuLeft": true,
   "nav_menu": {
    "height": "102px",
    "width": "252px"
   },
   "navigate_menu": true,
   "number_sections": true,
   "sideBar": true,
   "threshold": 4,
   "toc_cell": true,
   "toc_position": {
    "height": "814px",
    "left": "0px",
    "right": "1700px",
    "top": "206px",
    "width": "220px"
   },
   "toc_section_display": "block",
   "toc_window_display": true,
   "widenNotebook": false
  },
  "varInspector": {
   "cols": {
    "lenName": 16,
    "lenType": 16,
    "lenVar": 40
   },
   "kernels_config": {
    "python": {
     "delete_cmd_postfix": "",
     "delete_cmd_prefix": "del ",
     "library": "var_list.py",
     "varRefreshCmd": "print(var_dic_list())"
    },
    "r": {
     "delete_cmd_postfix": ") ",
     "delete_cmd_prefix": "rm(",
     "library": "var_list.r",
     "varRefreshCmd": "cat(var_dic_list()) "
    }
   },
   "types_to_exclude": [
    "module",
    "function",
    "builtin_function_or_method",
    "instance",
    "_Feature"
   ],
   "window_display": false
  }
 },
 "nbformat": 4,
 "nbformat_minor": 2
}
