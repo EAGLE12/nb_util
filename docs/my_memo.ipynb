{
 "cells": [
  {
   "cell_type": "markdown",
   "metadata": {},
   "source": [
    "# [共有とは](http://wa3.i-3-i.info/word1853.html)\n",
    " * 一緒に使えるようにする、もしくは認識を合わせておくこと\n"
   ]
  },
  {
   "cell_type": "markdown",
   "metadata": {},
   "source": [
    "# 共有サイト？共有メモ？とは\n",
    "* 自分の知っている情報を共有する\n",
    "* 自分の調べてわかった情報を共有する\n",
    "* 知ってほしい情報を共有する"
   ]
  },
  {
   "cell_type": "markdown",
   "metadata": {},
   "source": [
    "# 共有に必要な仕様\n",
    "- ランク付け?\n",
    "- ダウンロード?\n",
    "- コメント?\n",
    "- 要望?"
   ]
  },
  {
   "cell_type": "markdown",
   "metadata": {},
   "source": [
    "# my_helpとjupyterの比較?\n",
    "## my_help\n",
    "- command line 上で動作，確認する\n",
    "- yaml\n",
    "\n",
    "## jupyter\n",
    "- web 上で動作，確認する\n",
    "- json\n",
    "- [データ分析の必需品「Jupyter Notebook」の魅力とは](https://deepage.net/machine_learning/2016/12/13/jupyter_notebook.html)\n",
    "- [Jupyter notebookの利点とか諸々](http://news.mynavi.jp/series/zeropython/002/)\n",
    "- [データサイエンティストに向けたコーディング環境Jupyter Notebookの勧め](http://qiita.com/y__sama/items/17aedf0c05187edd61c3)\n",
    "\n"
   ]
  },
  {
   "cell_type": "markdown",
   "metadata": {},
   "source": [
    "# .ipynbについて\n",
    "* [jupyter notebookの.ipynbを詳しく検証？？](http://qiita.com/proelbtn/items/676c8d03b898f627540a)"
   ]
  },
  {
   "cell_type": "markdown",
   "metadata": {},
   "source": [
    "# knowledge management\n",
    "- [knowledge management](http://www.itnetinc.co.jp/ITPMopinion/tacexpkldg2.htm)\n",
    "- [暗黙知 / 形式知](http://www.osamuhasegawa.com/暗黙知-形式知/)"
   ]
  },
  {
   "cell_type": "markdown",
   "metadata": {},
   "source": [
    "# DRY(Don't Repeat Yourself)\n",
    "- [重複を発見し１つのコードに洗練させよう](https://twop.agile.esm.co.jp/do-not-repeat-youserlf-principle-d2ca604fbcdc)"
   ]
  },
  {
   "cell_type": "markdown",
   "metadata": {},
   "source": [
    "# story\n",
    "## 現状\n",
    "## 問題点\n",
    "## 改善する目的，目標\n",
    "## 手段\n",
    "## 開発状況，将来計画 \n"
   ]
  },
  {
   "cell_type": "markdown",
   "metadata": {},
   "source": [
    "# [fish shellとfishermanのインストール](https://o10e.org/blog/install-fish-shell-and-fisherman/)\n",
    "\n",
    "## fishをインストール\n",
    "```\n",
    "brew install fish\n",
    "```\n",
    "\n",
    "## fishermanをインストール\n",
    "```\n",
    "curl -Lo ~/.config/fish/functions/fisher.fish --create-dirs git.io/fisher\n",
    "```\n",
    "\n",
    "## fish 起動\n",
    "```\n",
    "fish\n",
    "```\n",
    "## oh-my-fishのテーマ、agnosterをインストール\n",
    "```\n",
    "fisher install oh-my-fish/theme-agnoster\n",
    "```\n",
    "## agnostrはPowerline fontsが必要なのでインストールします．フォントをインストールしないと記号が文字化けしてしまします．\n",
    "```\n",
    "git clone git@github.com:powerline/fonts.git\n",
    "cd fonts/\n",
    "./install.sh\n",
    "```\n",
    "ターミナルの環境設定から，フォントを**D2Coding for Powerline**を選択してください．\n"
   ]
  },
  {
   "cell_type": "markdown",
   "metadata": {},
   "source": [
    "# MEMO(everything OK)"
   ]
  },
  {
   "cell_type": "markdown",
   "metadata": {},
   "source": [
    "***\n",
    "## 30/08/2017\n",
    "***\n",
    "json? \n",
    "\n",
    "http\n",
    "\n",
    "store形式\n",
    "\n",
    "my¥_helpはyamlで保存されている．\n",
    "\n",
    "直接変換を試みる？\n",
    "\n",
    ".ipynb\n",
    "\n",
    "共有サイト，何をしたら共有になるの？\n",
    "->　自分の知っている情報又は，自分が調べた情報を共有する\n",
    "\n",
    "customer first\n",
    "必要な仕様：ランク付け，ダウンロード，コメント，要望\n",
    "便利な機能：観れる，編集，\n",
    "\n",
    "github, jupyter, notebookどこでどうやってこれらの情報を集約，提供するか？\n",
    "\n",
    "|my¥_help|jupyter\n",
    "|command line | web\n",
    "|何故いるの？ |確認するには手軽\n",
    "\n",
    "emacs, org-mode <=> my¥_help\n",
    "\n",
    "使い込んで，ええとこ探してください．なければ捨てよ．\n",
    "\n"
   ]
  },
  {
   "cell_type": "markdown",
   "metadata": {},
   "source": [
    "***\n",
    "## 05/09/2017\n",
    "***\n",
    "- プレゼンの一番大切なことは，**相手は誰？**\n",
    "- my_helpは，メモをするもの（個人）\n",
    "- jupyter notebookは，メモかな？？(個人)\n",
    "- Git hubには共有させるもの（複数人）\n",
    "- 暗黙知，形式知はいるのか\n",
    " - 俺はいる気するけど\n",
    "  - メモの必要性を示したいから\n",
    "- about DRY(Don't Repeat Yourself)\n",
    " - 漏れをなくすために自動化するよ\n",
    "  - その自動化がDRY原則なんちゃうか\n",
    " - DRY原則から派生してマーフィーの法則とか\n",
    "- **読み手の気持ちを考えて**\n",
    " - **書く順番**\n",
    "  - 目的　＝＞　方法　＝＞　進捗\n",
    "  - **目的**\n",
    "   - 何を作る？\n",
    "   - なんでいるの？\n",
    "  - **方法**\n",
    "   - どうやって作るの？\n",
    "   - 方策とか\n",
    "   - 方法とか\n",
    "  - **進歩**\n",
    "   - こうやって，今の進捗とかを書いていく\n",
    "- 原点一つ主義\n",
    " - 一つだけにしておく\n",
    "- **フレーミング**という考え方で考えるのいいよ\n",
    "- 基本形で文章書こう\n",
    " - Intro => Method => Result and Discassion\n"
   ]
  },
  {
   "cell_type": "markdown",
   "metadata": {},
   "source": [
    "***\n",
    "## 07/09/2017\n",
    "***\n",
    "- 引用する際\n",
    " - 原典主義\n",
    "   - 敬意を払うため\n",
    "- てにをは\n",
    "- マクロからミクロか，ミクロからマクロか．\n",
    "- 粒度．\n",
    "- "
   ]
  },
  {
   "cell_type": "markdown",
   "metadata": {},
   "source": [
    "---\n",
    "## 09/11/2017\n",
    "---\n",
    "1. spec or アルバで，spec fileを作っていけ\n",
    "1. LaTeXは，下から見たほうが見やすい\n",
    "```ruby\n",
    "reverse\n",
    "```\n",
    "1. general と specificの差をなくす"
   ]
  },
  {
   "cell_type": "code",
   "execution_count": null,
   "metadata": {
    "collapsed": true
   },
   "outputs": [],
   "source": []
  }
 ],
 "metadata": {
  "kernelspec": {
   "display_name": "Ruby 2.4.1",
   "language": "ruby",
   "name": "ruby"
  },
  "language_info": {
   "file_extension": ".rb",
   "mimetype": "application/x-ruby",
   "name": "ruby",
   "version": "2.4.2"
  },
  "latex_envs": {
   "LaTeX_envs_menu_present": true,
   "autocomplete": true,
   "bibliofile": "biblio.bib",
   "cite_by": "apalike",
   "current_citInitial": 1,
   "eqLabelWithNumbers": true,
   "eqNumInitial": 1,
   "hotkeys": {
    "equation": "Ctrl-E",
    "itemize": "Ctrl-I"
   },
   "labels_anchors": false,
   "latex_user_defs": false,
   "report_style_numbering": false,
   "user_envs_cfg": false
  },
  "nbTranslate": {
   "displayLangs": [
    "*"
   ],
   "hotkey": "alt-t",
   "langInMainMenu": true,
   "sourceLang": "en",
   "targetLang": "fr",
   "useGoogleTranslate": true
  },
  "toc": {
   "colors": {
    "hover_highlight": "#DAA520",
    "navigate_num": "#000000",
    "navigate_text": "#333333",
    "running_highlight": "#FF0000",
    "selected_highlight": "#FFD700",
    "sidebar_border": "#EEEEEE",
    "wrapper_background": "#FFFFFF"
   },
   "moveMenuLeft": true,
   "nav_menu": {
    "height": "462px",
    "width": "252px"
   },
   "navigate_menu": true,
   "number_sections": true,
   "sideBar": true,
   "skip_h1_title": false,
   "threshold": 4,
   "toc_cell": false,
   "toc_position": {
    "height": "890px",
    "left": "0px",
    "right": "1184px",
    "top": "106px",
    "width": "256px"
   },
   "toc_section_display": "block",
   "toc_window_display": true,
   "widenNotebook": false
  },
  "varInspector": {
   "cols": {
    "lenName": 16,
    "lenType": 16,
    "lenVar": 40
   },
   "kernels_config": {
    "python": {
     "delete_cmd_postfix": "",
     "delete_cmd_prefix": "del ",
     "library": "var_list.py",
     "varRefreshCmd": "print(var_dic_list())"
    },
    "r": {
     "delete_cmd_postfix": ") ",
     "delete_cmd_prefix": "rm(",
     "library": "var_list.r",
     "varRefreshCmd": "cat(var_dic_list()) "
    }
   },
   "types_to_exclude": [
    "module",
    "function",
    "builtin_function_or_method",
    "instance",
    "_Feature"
   ],
   "window_display": false
  }
 },
 "nbformat": 4,
 "nbformat_minor": 2
}
